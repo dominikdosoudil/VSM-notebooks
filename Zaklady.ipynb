{
 "cells": [
  {
   "cell_type": "markdown",
   "id": "equivalent-surgeon",
   "metadata": {},
   "source": [
    "# Základy"
   ]
  },
  {
   "cell_type": "code",
   "execution_count": 2,
   "id": "naked-valuable",
   "metadata": {},
   "outputs": [
    {
     "name": "stderr",
     "output_type": "stream",
     "text": [
      "OpenBLAS WARNING - could not determine the L2 cache size on this system, assuming 256k\n"
     ]
    }
   ],
   "source": [
    "from collections import Counter\n",
    "import math\n",
    "\n",
    "from IPython.display import Image\n",
    "import numpy as np\n",
    "from numpy.linalg import inv\n",
    "import scipy.linalg as la\n",
    "import scipy.stats as st"
   ]
  },
  {
   "cell_type": "markdown",
   "id": "standard-jewelry",
   "metadata": {},
   "source": [
    "## Střední hodnota\n",
    "\n",
    "=expected value - Popisuje „střed“ rozdělení a odpovídá fyzikálně jeho „těžišti“\n",
    "\n",
    "Střední hodnota náhodného vektoru - [Marast](https://marast.fit.cvut.cz/cs/problems/10185) \n",
    "\n",
    "\n",
    "střední hodnota EX pro diskrétní náhodnou veličinu\n",
    "\n",
    "$$ EX = \\sum_k x_k \\cdot P(X = x_k) $$\n",
    "\n"
   ]
  },
  {
   "cell_type": "code",
   "execution_count": 40,
   "id": "04a78ab9-7cda-458a-9244-cc46f354a0da",
   "metadata": {},
   "outputs": [
    {
     "name": "stdout",
     "output_type": "stream",
     "text": [
      "EX = 0.8333333333333334\n",
      "EX = 38.625\n",
      "EX = 38.125\n",
      "EX = 0.5\n"
     ]
    }
   ],
   "source": [
    "# výpočet střední hodnoty (weights jsou pravděpodobnosti)\n",
    "X =   [0.  , 1.  , 2.  ]\n",
    "P_X = [1./3, 1./2, 1./6]\n",
    "print(f\"EX = {np.average(X, weights=P_X)}\")\n",
    "# teplota prˇed 39.5 38.0 39.0 38.0 38.5 38.0 39.5 38.5\n",
    "# teplota po 38.0 38.5 39.5 39.5 37.0 38.5 37.0 37.0\n",
    "print(f\"EX = {np.average([39.5, 38.0, 39.0, 38.0, 38.5, 38.0, 39.5, 38.5])}\")\n",
    "print(f\"EX = {np.average([38.0, 38.5, 39.5, 39.5, 37.0, 38.5, 37.0, 37.0])}\")\n",
    "A = [39.5, 38.0, 39.0, 38.0, 38.5, 38.0, 39.5, 38.5]\n",
    "B = [38.0, 38.5, 39.5, 39.5, 37.0, 38.5, 37.0, 37.0]\n",
    "print(f\"EX = {np.average([a - b for a, b in zip(A, B)])}\")"
   ]
  },
  {
   "cell_type": "markdown",
   "id": "700e23e9-2ae0-4fc5-87f6-d2542afba0b4",
   "metadata": {},
   "source": [
    "\n",
    "střední hodnota EX pro spojitou náhodnou veličinu s hustotou $f_X$\n",
    "\n",
    "\n",
    "$$ EX = \\int_{=\\infty}^{\\infty} x f_X(x) dx $$\n",
    "\n",
    "\n",
    "Linearita střední hodnoty\n",
    "\n",
    "$$E(aX + bY +c) = aEX + bEY +c$$\n",
    "\n",
    "\n",
    "Pokud $ EY = E(g(X))$, můžeme $EY$ vypočítat následovně:\n",
    "\n",
    "Pokud $X$ má diskrétní rozdělení:\n",
    "\n",
    "$$ EY = Eg(X) = \\sum_{k} g(x_k) \\cdot P(X = x_k)$$\n",
    "\n",
    "jinak\n",
    "\n",
    "$$ EY = Eg(X) = \\int_{-\\infty}^{\\infty} g(x) f_X(x) dx$$\n",
    "\n",
    "\n",
    "\n",
    "\n",
    "\n",
    "## Rozptyl\n",
    "\n",
    "\n",
    "$$var(X) = EX^2 - (EX)^2$$\n",
    "\n",
    "$$var(X \\pm Y) = var(X) + var(Y) \\pm 2cov(X, Y)$$\n",
    "\n",
    "$$var(aX + b) = a^2 var(X) $$\n"
   ]
  },
  {
   "cell_type": "code",
   "execution_count": 44,
   "id": "d97de4ce-0037-4af7-8f6c-6d7ac4fbf968",
   "metadata": {},
   "outputs": [
    {
     "data": {
      "text/plain": [
       "0.4722222222222222"
      ]
     },
     "execution_count": 44,
     "metadata": {},
     "output_type": "execute_result"
    }
   ],
   "source": [
    "def weighted_variance(X, P_X):\n",
    "    return np.average([x*x for x in X], weights=P_X) - np.average(X, weights=P_X) **2\n",
    "\n",
    "weighted_variance(X, P_X)"
   ]
  },
  {
   "cell_type": "markdown",
   "id": "f03758fd-7b64-4cd0-801e-67db6c668bb7",
   "metadata": {},
   "source": [
    "## Kovariance\n",
    "\n",
    "$$cov(X, Y) = EXY - EXEY$$\n",
    "\n",
    "$$cov(X, Y) = cov(Y, X)$$\n",
    "\n",
    "$$cov(aX +b, Y) = a\\cdot cov(X, Y)$$\n",
    "\n",
    "$$cov(X+Y, Z) = cov(X, Z) + cov(Y, Z)$$\n",
    "\n",
    "$$cov(X, X) = var(X)$$\n",
    "\n",
    "$X, Y$ jsou nezávisle $\\implies cov(X,Y) = 0$, ale ne naopak\n",
    "\n",
    "$$var \\textbf{X} = E[(\\textbf{X}-E\\textbf{X})(X -E\\textbf{X})^T]$$\n",
    "\n",
    "\n",
    "\n",
    "Platí \n",
    "$$ E(X_1\\cdot X_2) = cov(X_1, X_2) + EX_1EX_2 $$\n",
    "\n",
    "\n",
    "### Korelovanost\n",
    "\n",
    "$X$ a $Y$ jsou nekorelované, právě když $EXY = EXEY$"
   ]
  },
  {
   "cell_type": "code",
   "execution_count": 38,
   "id": "7bbad123-e48e-4997-9e43-86761942c0d0",
   "metadata": {},
   "outputs": [
    {
     "name": "stdout",
     "output_type": "stream",
     "text": [
      "EXY = 0.0\n",
      "EXEY = 0.0\n",
      "not corelated\n"
     ]
    }
   ],
   "source": [
    "def is_corelated(X, P_X, Y, P_Y):\n",
    "    EXY = sum([sum([y * p_y * x * p_x for y, p_y in zip(Y, P_Y)]) for x, p_x in zip(X, P_X)])\n",
    "    print(f\"EXY = {EXY}\")\n",
    "    EXEY = np.average(X, weights=P_X) * np.average(Y, weights=P_Y)\n",
    "    print(f\"EXEY = {EXEY}\")\n",
    "    not_corelated = EXY == EXEY\n",
    "    print(\"not corelated\" if not_corelated else \"corelated\")\n",
    "\n",
    "Y = [-1, 0, 1]\n",
    "P_Y = [1/8, 3/4, 1/8]\n",
    "is_corelated(X, P_X, Y, P_Y)"
   ]
  },
  {
   "cell_type": "markdown",
   "id": "found-disclosure",
   "metadata": {},
   "source": [
    "## Rozdělení"
   ]
  },
  {
   "cell_type": "markdown",
   "id": "spanish-declaration",
   "metadata": {},
   "source": [
    "### Uniformní\n",
    "\n",
    "$$X \\sim Unif(a, b)$$\n",
    "\n",
    "Střední hodnota\n",
    "\n",
    "$$EX = \\frac{a+b}{2}$$\n",
    "\n",
    "Rozptyl\n",
    "\n",
    "$$var(X) = \\frac{(b-a)^2}{12}$$\n",
    "\n",
    "\n",
    "Hustota\n",
    "$$f_X(x) = 0, \\text{ pokud } x \\not \\in [a, b]$$\n",
    "\n",
    "$$f_X(x) = \\frac{1}{b-a}, \\text{ pokud } x \\in [a, b]$$\n"
   ]
  },
  {
   "cell_type": "markdown",
   "id": "separate-authority",
   "metadata": {},
   "source": [
    "### Exponenciální\n",
    "\n",
    "\n",
    "$$X \\sim Exp(\\lambda)$$\n",
    "\n",
    "Střední hodnota\n",
    "\n",
    "$$ EX = \\frac{1}{\\lambda}$$\n",
    "\n",
    "Rozptyl\n",
    "\n",
    "$$ EX = \\frac{1}{\\lambda^2} $$\n",
    "\n",
    "\n",
    "Hustota\n",
    "\n",
    "$$ f_X(x) = \\lambda e^{-\\lambda x}, \\text{ pokud } x \\ge 0 $$\n",
    "$$ f_X(x) = 0, \\text{jinak} $$\n",
    "\n",
    "Distribuční funkce\n",
    "\n",
    "$$ F_X(x) = 1 - e^{- \\lambda x}$$\n",
    "\n",
    "Funkce přežití \n",
    "\n",
    "\n",
    "$$ e^{- \\lambda x}$$"
   ]
  },
  {
   "cell_type": "markdown",
   "id": "indoor-commander",
   "metadata": {},
   "source": [
    "# Varianční matice náhodného vektoru $Z = (X, Y)^T$\n",
    "\n",
    "https://marast.fit.cvut.cz/cs/problems/10186\n",
    "\n",
    "$$\\textbf{var Z} = \n",
    "\\begin{pmatrix}\n",
    "\\textbf{var X} & \\textbf{cov(X,Y)} \\\\\n",
    "\\textbf{cov(Y,X)} & \\textbf{var Y}\n",
    "\\end{pmatrix}\n",
    "$$\n",
    "\n",
    "Tato matice je symetrická a pozitivně semidefinitní.\n",
    "\n",
    "Nechť $X$ je náhodný vektor, pak\n",
    "\n",
    "$$ var X = E(X - EX)(X - EX)^T = EXX^T - EXEX^T$$"
   ]
  },
  {
   "cell_type": "markdown",
   "id": "fabulous-camcorder",
   "metadata": {},
   "source": [
    "### Random věty\n",
    "\n",
    "Linearita střední hodnoty náhodného vektoru Z\n",
    "\n",
    "\n",
    "$$E(A + BZC) = A + B(EZ)C$$\n",
    "\n",
    "\n",
    "$Z$  je náhodná matice a $A,B, C$ jsou matice konstant příslušných rozměrů.\n",
    "\n"
   ]
  },
  {
   "cell_type": "markdown",
   "id": "public-vanilla",
   "metadata": {},
   "source": [
    "### Normální rozdělení\n",
    "\n",
    "$ X \\sim N(\\mu, \\Sigma)$, $a$ je vektor a $B$ matice potom\n",
    "\n",
    "$$Y = a + BX \\sim N(a + B\\mu, B\\Sigma B^T)$$\n",
    "\n",
    "Složky sdruženého normálního rozdělení jsou nezávislé pokud je varianční matice $\\Sigma$ ortogonální.\n",
    "\n",
    "Součet normálních rozdělení je normální rozdělení.\n",
    "\n",
    "$$ EX = \\mu $$\n",
    "\n",
    "$$var X = \\Sigma $$\n",
    "\n",
    "[Věta 4.31]\n"
   ]
  },
  {
   "cell_type": "markdown",
   "id": "c10715f2",
   "metadata": {},
   "source": [
    "## Poissonovo rozdělení \n",
    "\n",
    "$$EX = \\lambda$$\n",
    "\n",
    "$$ var X  = \\lambda^2 $$\n"
   ]
  },
  {
   "cell_type": "markdown",
   "id": "271e2f91",
   "metadata": {},
   "source": [
    "## Normální rozdělení\n",
    "\n",
    "$$X \\sim Norm(\\mu, \\sigma)$$\n",
    "$$EX = \\mu$$\n",
    "$$varX = \\sigma^2$$"
   ]
  },
  {
   "cell_type": "code",
   "execution_count": null,
   "id": "671c2ad2",
   "metadata": {},
   "outputs": [],
   "source": []
  }
 ],
 "metadata": {
  "kernelspec": {
   "display_name": "Python 3 (ipykernel)",
   "language": "python",
   "name": "python3"
  },
  "language_info": {
   "codemirror_mode": {
    "name": "ipython",
    "version": 3
   },
   "file_extension": ".py",
   "mimetype": "text/x-python",
   "name": "python",
   "nbconvert_exporter": "python",
   "pygments_lexer": "ipython3",
   "version": "3.9.10"
  }
 },
 "nbformat": 4,
 "nbformat_minor": 5
}
